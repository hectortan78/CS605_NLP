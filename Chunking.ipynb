{
 "cells": [
  {
   "cell_type": "code",
   "execution_count": 1,
   "metadata": {},
   "outputs": [],
   "source": [
    "# Libraries\n",
    "import pymupdf\n",
    "import re\n",
    "import pandas as pd\n",
    "from langchain_chroma import Chroma\n",
    "from langchain_text_splitters import CharacterTextSplitter\n",
    "import getpass\n",
    "import os\n",
    "from langchain_openai import OpenAIEmbeddings"
   ]
  },
  {
   "cell_type": "code",
   "execution_count": null,
   "metadata": {},
   "outputs": [],
   "source": [
    "# clean the titles\n",
    "def clean_title(title):\n",
    "    return re.sub(r'^\\d+[A-Z]*\\.\\s*', '', title, count=1)\n",
    "\n",
    "# Function to move the prefix to the end\n",
    "def move_prefix_to_end(title):\n",
    "    match = re.match(r'^(\\d+[A-Z]*\\.\\s+)(.*)', title)\n",
    "    if match:\n",
    "        prefix = match.group(1).strip()\n",
    "        rest = match.group(2)\n",
    "        return f\"{rest} {prefix}\"\n",
    "    return title\n",
    "\n",
    "# load and clean CPF pdf\n",
    "def clean_and_save(file):\n",
    "    \n",
    "    titles = []\n",
    "    doc = pymupdf.open(file)\n",
    "    toc = doc.get_toc()\n",
    "    for level, title, page in toc: \n",
    "        titles.append(title)\n",
    "    \n",
    "    # Cleaned titles\n",
    "    cleaned_titles = [clean_title(title) for title in titles]\n",
    "    \n",
    "    # Apply the function to the titles\n",
    "    cleaned_titles = [move_prefix_to_end(title) for title in titles]\n",
    "    \n",
    "    # Initialize a list to hold the modified content\n",
    "    modified_content = []\n",
    "\n",
    "    # Iterate through each page and extract text\n",
    "    for page_num in range(8,len(doc)):\n",
    "        page = doc.load_page(page_num)\n",
    "        text = page.get_text(\"text\")\n",
    "        text = text.replace('\\n',' ')\n",
    "        \n",
    "        for i in cleaned_titles:\n",
    "            text = text.replace(i,\"##\" + i)\n",
    "        \n",
    "        modified_content.append(text)\n",
    "        \n",
    "    modified_text = \" \".join(modified_content)\n",
    "        \n",
    "    # Save the modified content to a .txt file\n",
    "    with open(\"modified_document.txt\", \"w\", encoding='utf-8') as file:\n",
    "        file.write(modified_text)\n",
    "        "
   ]
  },
  {
   "cell_type": "code",
   "execution_count": null,
   "metadata": {},
   "outputs": [],
   "source": [
    "# clean and save the .txt\n",
    "clean_and_save(\"./Central Provident Fund Act 1953.pdf\")"
   ]
  },
  {
   "cell_type": "code",
   "execution_count": 1,
   "metadata": {},
   "outputs": [],
   "source": [
    "def chunking(textfile):\n",
    "    \n",
    "    # read as text\n",
    "    with open(textfile, encoding='utf-8') as f:\n",
    "        text = f.read()\n",
    "    \n",
    "    # split as text str\n",
    "    text_splitter = CharacterTextSplitter(\n",
    "        separator=\"##\",\n",
    "        chunk_size=200\n",
    "    )\n",
    "\n",
    "    pages = text_splitter.split_text(text)\n",
    "    \n",
    "    # create a document\n",
    "    documents = text_splitter.create_documents(pages)\n",
    "    \n",
    "    return documents "
   ]
  },
  {
   "cell_type": "code",
   "execution_count": 2,
   "metadata": {},
   "outputs": [],
   "source": [
    "documents = chunking(\"modified_document.txt\")"
   ]
  },
  {
   "cell_type": "markdown",
   "metadata": {},
   "source": [
    "### OpenAI Embedding"
   ]
  },
  {
   "cell_type": "code",
   "execution_count": 28,
   "metadata": {},
   "outputs": [],
   "source": [
    "os.environ[\"OPENAI_API_KEY\"] = getpass.getpass()\n",
    "embeddings = OpenAIEmbeddings(model=\"text-embedding-3-small\")\n",
    "# Load into Chroma and Saving the model\n",
    "db2 = Chroma.from_documents(documents, embeddings, persist_directory=\"./openai_chroma_db\")"
   ]
  },
  {
   "cell_type": "code",
   "execution_count": null,
   "metadata": {},
   "outputs": [],
   "source": [
    "# Loading the model\n",
    "# db3 = Chroma(persist_directory=\"./openai_chroma_db\",embedding_function=embeddings)"
   ]
  }
 ],
 "metadata": {
  "kernelspec": {
   "display_name": "nlpsmu",
   "language": "python",
   "name": "python3"
  },
  "language_info": {
   "codemirror_mode": {
    "name": "ipython",
    "version": 3
   },
   "file_extension": ".py",
   "mimetype": "text/x-python",
   "name": "python",
   "nbconvert_exporter": "python",
   "pygments_lexer": "ipython3",
   "version": "3.8.10"
  }
 },
 "nbformat": 4,
 "nbformat_minor": 2
}
